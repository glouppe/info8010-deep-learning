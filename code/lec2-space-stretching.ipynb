{
 "cells": [
  {
   "cell_type": "markdown",
   "metadata": {},
   "source": [
    "# Lecture 2: Space stretching\n",
    "\n",
    "Notebook adapted from [Deep Learning (with PyTorch)](https://github.com/Atcold/pytorch-Deep-Learning) by Alfredo Canziani. \n"
   ]
  },
  {
   "cell_type": "code",
   "execution_count": null,
   "metadata": {},
   "outputs": [],
   "source": [
    "import torch\n",
    "import torch.nn as nn\n",
    "device = torch.device(\"cuda:0\" if torch.cuda.is_available() else \"cpu\")\n",
    "print(device)"
   ]
  },
  {
   "cell_type": "code",
   "execution_count": null,
   "metadata": {},
   "outputs": [],
   "source": [
    "# Plot functions\n",
    "import matplotlib.pyplot as plt\n",
    "\n",
    "def show_scatterplot(X, colors, title=\"\", ax=None):\n",
    "    colors = colors.cpu().numpy()\n",
    "    X = X.cpu().numpy()\n",
    "    \n",
    "    if ax is None:\n",
    "        fig = plt.figure()\n",
    "        ax = plt.axes()\n",
    "\n",
    "    ax.scatter(X[:, 0], X[:, 1], c=colors, s=30, alpha=0.25)\n",
    "    ax.axis(\"equal\")\n",
    "    ax.axis(\"off\")\n",
    "    ax.set(title=title)\n",
    "    \n",
    "    return ax\n",
    "    \n",
    "def plot_bases(bases, width=0.04, ax=None):\n",
    "    if ax is None:\n",
    "        fig = plt.figure()\n",
    "        ax = plt.axes()\n",
    "        \n",
    "    bases = bases.cpu()\n",
    "    bases[2:] -= bases[:2]\n",
    "    ax.arrow(*bases[0], *bases[2], width=width, color=(1,0,0), zorder=10, alpha=1., length_includes_head=True)\n",
    "    ax.arrow(*bases[1], *bases[3], width=width, color=(0,1,0), zorder=10, alpha=1., length_includes_head=True)\n",
    "    \n",
    "    return ax"
   ]
  },
  {
   "cell_type": "code",
   "execution_count": null,
   "metadata": {},
   "outputs": [],
   "source": [
    "# Generate some points in 2-D space\n",
    "n_points = 3000\n",
    "X = torch.randn(n_points, 2).to(device)\n",
    "colors = X[:, 0]\n",
    "\n",
    "ax = show_scatterplot(X, colors, title='X')\n",
    "OI = torch.cat((torch.zeros(2, 2), torch.eye(2))).to(device)\n",
    "plot_bases(OI, ax=ax);"
   ]
  },
  {
   "cell_type": "markdown",
   "metadata": {},
   "source": [
    "### Visualizing linear transformations\n",
    "\n",
    "$$y = W x$$\n",
    "\n",
    "Linear transformations rotate, reflect and strech. From the singular value decomposition, we have $W = U\n",
    "  \\left[ {\\begin{array}{cc}\n",
    "   s_1 & 0 \\\\\n",
    "   0 & s_2 \\\\\n",
    "  \\end{array} } \\right]\n",
    "  V^\\top$.\n",
    "Accordingly,\n",
    "* Larger singular values stretch the points\n",
    "* Smaller singular values push them together\n",
    "* $U, V$ rotate/reflect"
   ]
  },
  {
   "cell_type": "code",
   "execution_count": null,
   "metadata": {},
   "outputs": [],
   "source": [
    "ax = show_scatterplot(X, colors, title='X')\n",
    "plot_bases(OI, ax=ax)\n",
    "\n",
    "for i in range(5):\n",
    "    # create a random matrix\n",
    "    W = torch.randn(2, 2).to(device)\n",
    "    \n",
    "    # transform points\n",
    "    Y = X @ W.T\n",
    "    \n",
    "    # compute singular values\n",
    "    U, S, V = torch.svd(W)\n",
    "    \n",
    "    # plot transformed points\n",
    "    ax = show_scatterplot(Y, colors, title=\"y = Wx, singular values : [{:.3f}, {:.3f}]\".format(S[0], S[1]))\n",
    "    \n",
    "    # transform the basis\n",
    "    new_OI = OI @ W.t()\n",
    "    \n",
    "    # plot old and new basis\n",
    "    plot_bases(OI, ax=ax)\n",
    "    plot_bases(new_OI, ax=ax)"
   ]
  },
  {
   "cell_type": "markdown",
   "metadata": {},
   "source": [
    "### Linear transformation with PyTorch"
   ]
  },
  {
   "cell_type": "code",
   "execution_count": null,
   "metadata": {},
   "outputs": [],
   "source": [
    "model = nn.Sequential(\n",
    "    nn.Linear(2, 2, bias=False)\n",
    ").to(device)\n",
    "\n",
    "with torch.no_grad():\n",
    "    Y = model(X)\n",
    "    ax = show_scatterplot(Y, colors)\n",
    "    plot_bases(model(OI), ax=ax)"
   ]
  },
  {
   "cell_type": "markdown",
   "metadata": {},
   "source": [
    "### Non-linear transformations\n",
    "\n",
    "Linear transforms can rotate, reflect, stretch and compress, but cannot curve.\n",
    "We need non-linearities for this."
   ]
  },
  {
   "cell_type": "code",
   "execution_count": null,
   "metadata": {},
   "outputs": [],
   "source": [
    "z = torch.linspace(-10, 10, 101)\n",
    "s = torch.sigmoid(z)\n",
    "plt.plot(z.numpy(), s.numpy())"
   ]
  },
  {
   "cell_type": "code",
   "execution_count": null,
   "metadata": {},
   "outputs": [],
   "source": [
    "ax = show_scatterplot(X, colors, title='X')\n",
    "plot_bases(OI, ax=ax)\n",
    "\n",
    "model = nn.Sequential(\n",
    "    nn.Linear(2, 2, bias=False),\n",
    "    nn.Sigmoid()\n",
    ")\n",
    "\n",
    "model.to(device)\n",
    "\n",
    "for s in range(1, 6):\n",
    "    W = 10 * s * torch.eye(2)\n",
    "    model[0].weight.data.copy_(W)\n",
    "    Y = model(X).data\n",
    "    ax = show_scatterplot(Y, colors, title=f'f(x), s={s}')\n",
    "    plot_bases(OI, width=0.01, ax=ax)"
   ]
  },
  {
   "cell_type": "markdown",
   "metadata": {},
   "source": [
    "### Functions represented by random neural networks"
   ]
  },
  {
   "cell_type": "code",
   "execution_count": null,
   "metadata": {},
   "outputs": [],
   "source": [
    "show_scatterplot(X, colors, title='x')\n",
    "n_hidden = 10\n",
    "\n",
    "activation = nn.Sigmoid()\n",
    "# activation = nn.ReLU()\n",
    "\n",
    "for i in range(5):\n",
    "    # create 1-layer neural networks with random weights\n",
    "    model = nn.Sequential(\n",
    "            nn.Linear(2, n_hidden), \n",
    "            activation, \n",
    "            nn.Linear(n_hidden, 2)\n",
    "        ).to(device)\n",
    "\n",
    "    with torch.no_grad():\n",
    "        Y = model(X)\n",
    "    show_scatterplot(Y, colors, title='f(x)')"
   ]
  },
  {
   "cell_type": "code",
   "execution_count": null,
   "metadata": {},
   "outputs": [],
   "source": [
    "# deeper network with random weights\n",
    "show_scatterplot(X, colors, title='x')\n",
    "n_hidden = 10\n",
    "\n",
    "#activation = nn.Sigmoid()\n",
    "activation = nn.ReLU()\n",
    "\n",
    "for i in range(5):\n",
    "    model = nn.Sequential(\n",
    "        nn.Linear(2, n_hidden), \n",
    "        activation, \n",
    "        nn.Linear(n_hidden, n_hidden), \n",
    "        activation, \n",
    "        nn.Linear(n_hidden, n_hidden), \n",
    "        activation, \n",
    "        nn.Linear(n_hidden, n_hidden), \n",
    "        activation, \n",
    "        nn.Linear(n_hidden, 2)\n",
    "    ).to(device)\n",
    "\n",
    "    with torch.no_grad():\n",
    "        Y = model(X).detach()\n",
    "    show_scatterplot(Y, colors, title='f(x)')"
   ]
  }
 ],
 "metadata": {
  "kernelspec": {
   "display_name": "Python [conda env:torch-cpu] *",
   "language": "python",
   "name": "conda-env-torch-cpu-py"
  },
  "language_info": {
   "codemirror_mode": {
    "name": "ipython",
    "version": 3
   },
   "file_extension": ".py",
   "mimetype": "text/x-python",
   "name": "python",
   "nbconvert_exporter": "python",
   "pygments_lexer": "ipython3",
   "version": "3.10.9"
  }
 },
 "nbformat": 4,
 "nbformat_minor": 4
}
