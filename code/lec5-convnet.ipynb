{
 "cells": [
  {
   "cell_type": "markdown",
   "metadata": {},
   "source": [
    "# Lecture 5: Convolutional networks\n",
    "\n",
    "Notebook adapted from [Deep Learning (with PyTorch)](https://github.com/Atcold/pytorch-Deep-Learning) by Alfredo Canziani. "
   ]
  },
  {
   "cell_type": "code",
   "execution_count": 16,
   "metadata": {},
   "outputs": [],
   "source": [
    "import torch\n",
    "import torch.nn as nn\n",
    "import torch.nn.functional as F\n",
    "from torchvision import datasets, transforms\n",
    "\n",
    "import matplotlib.pyplot as plt"
   ]
  },
  {
   "cell_type": "code",
   "execution_count": 17,
   "metadata": {},
   "outputs": [
    {
     "data": {
      "text/plain": [
       "'cpu'"
      ]
     },
     "execution_count": 17,
     "metadata": {},
     "output_type": "execute_result"
    }
   ],
   "source": [
    "device = \"cuda\" if torch.cuda.is_available() else \"cpu\"\n",
    "device"
   ]
  },
  {
   "cell_type": "markdown",
   "metadata": {},
   "source": [
    "# MNIST"
   ]
  },
  {
   "cell_type": "code",
   "execution_count": 18,
   "metadata": {},
   "outputs": [],
   "source": [
    "tf = transforms.Compose([transforms.ToTensor(),\n",
    "                         transforms.Normalize((0.1307,), (0.3081,))])\n",
    "\n",
    "train_loader = torch.utils.data.DataLoader(datasets.MNIST(\"./data\", train=True, transform=tf, download=True),\n",
    "                                           batch_size=64, shuffle=True)\n",
    "\n",
    "test_loader = torch.utils.data.DataLoader(datasets.MNIST(\"./data\", train=False, transform=tf),\n",
    "                                          batch_size=1000, shuffle=True)"
   ]
  },
  {
   "cell_type": "code",
   "execution_count": 19,
   "metadata": {},
   "outputs": [
    {
     "data": {
      "image/png": "[encoded data removed]",
      "text/plain": [
       "<Figure size 1200x400 with 5 Axes>"
      ]
     },
     "metadata": {},
     "output_type": "display_data"
    }
   ],
   "source": [
    "batch = next(iter(train_loader))\n",
    "x = batch[0][:10]\n",
    "y = batch[1][:10]\n",
    "\n",
    "fig, axs = plt.subplots(1, 5, figsize=(12, 4))\n",
    "\n",
    "for i in range(5):\n",
    "    axs[i].imshow(x[i].squeeze().numpy())"
   ]
  },
  {
   "cell_type": "markdown",
   "metadata": {},
   "source": [
    "# MLP vs ConvNet"
   ]
  },
  {
   "cell_type": "code",
   "execution_count": 20,
   "metadata": {},
   "outputs": [],
   "source": [
    "class MLP(nn.Module):\n",
    "    def __init__(self, input_size, n_hidden, output_size):\n",
    "        super().__init__()\n",
    "        self.input_size = input_size\n",
    "        self.net = nn.Sequential(\n",
    "            nn.Linear(input_size, n_hidden),\n",
    "            nn.ReLU(),\n",
    "            nn.Linear(n_hidden, n_hidden),\n",
    "            nn.ReLU(),\n",
    "            nn.Linear(n_hidden, output_size),\n",
    "            # nn.Softmax(dim=-1)\n",
    "        )\n",
    "        \n",
    "    def forward(self, x):\n",
    "        x = x.view(-1, self.input_size)\n",
    "        return self.net(x)\n",
    "\n",
    "class ConvNet(nn.Module):\n",
    "    def __init__(self, input_size, n_kernels, output_size):\n",
    "        super().__init__()\n",
    "        self.net = nn.Sequential(\n",
    "            nn.Conv2d(in_channels=1, out_channels=n_kernels, kernel_size=5),\n",
    "            nn.ReLU(),\n",
    "            nn.MaxPool2d(kernel_size=2),\n",
    "            nn.Conv2d(in_channels=n_kernels, out_channels=n_kernels, kernel_size=5),\n",
    "            nn.ReLU(),\n",
    "            nn.MaxPool2d(kernel_size=2),\n",
    "            nn.Flatten(),\n",
    "            nn.Linear(n_kernels * 4 * 4, 50),\n",
    "            nn.ReLU(),\n",
    "            nn.Linear(50, 10),\n",
    "            # nn.Softmax(dim=-1)\n",
    "        )\n",
    "        \n",
    "    def forward(self, x):\n",
    "        return self.net(x)"
   ]
  },
  {
   "cell_type": "code",
   "execution_count": 23,
   "metadata": {},
   "outputs": [],
   "source": [
    "def train(model, perm=torch.arange(0, 784).long(), n_epochs=1):\n",
    "    model.train()    \n",
    "    optimizer = torch.optim.AdamW(model.parameters())\n",
    "    \n",
    "    for epoch in range(n_epochs):\n",
    "        for i, (data, target) in enumerate(train_loader):\n",
    "            # send to device\n",
    "            data, targets = data.to(device), target.to(device)\n",
    "            print\n",
    "\n",
    "            #permute pixels\n",
    "            data = data.view(-1, 28*28)\n",
    "            data = data[:, perm]\n",
    "            data = data.view(-1, 1, 28, 28)\n",
    "\n",
    "            # step\n",
    "            optimizer.zero_grad()\n",
    "            logits = model(data)\n",
    "            \n",
    "            loss = F.cross_entropy(logits, targets)\n",
    "            loss.backward()\n",
    "            optimizer.step()\n",
    "\n",
    "            if i % 100 == 0:\n",
    "                print(f\"epoch={epoch}, step={i}: train loss={loss.item():.4f}\")"
   ]
  },
  {
   "cell_type": "code",
   "execution_count": 24,
   "metadata": {},
   "outputs": [],
   "source": [
    "def test(model, perm=torch.arange(0, 784).long()):\n",
    "    model.eval()\n",
    "    \n",
    "    test_loss = 0\n",
    "    correct = 0\n",
    "    \n",
    "    for data, targets in test_loader:\n",
    "        # send to device\n",
    "        data, targets = data.to(device), targets.to(device)\n",
    "        \n",
    "        # permute pixels\n",
    "        data = data.view(-1, 28*28)\n",
    "        data = data[:, perm]\n",
    "        data = data.view(-1, 1, 28, 28)\n",
    "        \n",
    "        # metrics\n",
    "        logits = model(data)\n",
    "        test_loss += F.cross_entropy(logits, targets, reduction='sum').item()\n",
    "        preds = torch.argmax(logits, dim=1)     \n",
    "        correct += (preds == targets).sum()\n",
    "\n",
    "    test_loss /= len(test_loader.dataset)\n",
    "    accuracy = correct / len(test_loader.dataset)\n",
    "    \n",
    "    print(f\"test loss={test_loss:.4f}, accuracy={accuracy:.4f}\")"
   ]
  },
  {
   "cell_type": "code",
   "execution_count": 25,
   "metadata": {},
   "outputs": [
    {
     "name": "stdout",
     "output_type": "stream",
     "text": [
      "Parameters=6.442K\n",
      "epoch=0, step=0: train loss=2.3059\n",
      "epoch=0, step=100: train loss=0.9732\n",
      "epoch=0, step=200: train loss=0.6822\n",
      "epoch=0, step=300: train loss=0.6095\n",
      "epoch=0, step=400: train loss=0.4405\n",
      "epoch=0, step=500: train loss=0.5414\n",
      "epoch=0, step=600: train loss=0.2872\n",
      "epoch=0, step=700: train loss=0.3281\n",
      "epoch=0, step=800: train loss=0.2725\n",
      "epoch=0, step=900: train loss=0.3282\n",
      "test loss=0.3682, accuracy=0.8904\n"
     ]
    }
   ],
   "source": [
    "# MLP\n",
    "input_size = 28*28  \n",
    "output_size = 10   \n",
    "\n",
    "n_hidden = 8\n",
    "mlp = MLP(input_size, n_hidden, output_size)\n",
    "mlp.to(device)\n",
    "print(f\"Parameters={sum(p.numel() for p in mlp.parameters())/1e3}K\")\n",
    "\n",
    "train(mlp)\n",
    "test(mlp)"
   ]
  },
  {
   "cell_type": "code",
   "execution_count": 26,
   "metadata": {},
   "outputs": [
    {
     "name": "stdout",
     "output_type": "stream",
     "text": [
      "Parameters=6.422K\n",
      "epoch=0, step=0: train loss=2.3428\n",
      "epoch=0, step=100: train loss=0.4259\n",
      "epoch=0, step=200: train loss=0.2886\n",
      "epoch=0, step=300: train loss=0.2340\n",
      "epoch=0, step=400: train loss=0.2416\n",
      "epoch=0, step=500: train loss=0.1337\n",
      "epoch=0, step=600: train loss=0.1912\n",
      "epoch=0, step=700: train loss=0.2206\n",
      "epoch=0, step=800: train loss=0.0750\n",
      "epoch=0, step=900: train loss=0.1850\n",
      "test loss=0.1460, accuracy=0.9556\n"
     ]
    }
   ],
   "source": [
    "# ConvNet, with the same number of parameters\n",
    "n_kernels = 6\n",
    "convnet = ConvNet(input_size, n_kernels, output_size)\n",
    "convnet.to(device)\n",
    "print(f\"Parameters={sum(p.numel() for p in convnet.parameters())/1e3}K\")\n",
    "\n",
    "train(convnet)\n",
    "test(convnet)"
   ]
  },
  {
   "cell_type": "markdown",
   "metadata": {},
   "source": [
    "The convolutional network performs better with the same number of parameters, thanks to its use of prior knowledge about images:\n",
    "\n",
    "* Use of convolution: Locality and stationarity in images\n",
    "* Pooling: builds in some translation invariance\n",
    "\n",
    "What if those assumptions are wrong?"
   ]
  },
  {
   "cell_type": "markdown",
   "metadata": {},
   "source": [
    "# MLP vs ConvNet, on shuffled pixels"
   ]
  },
  {
   "cell_type": "code",
   "execution_count": 27,
   "metadata": {},
   "outputs": [
    {
     "data": {
      "image/png": "[encoded data removed]",
      "text/plain": [
       "<Figure size 1200x400 with 5 Axes>"
      ]
     },
     "metadata": {},
     "output_type": "display_data"
    },
    {
     "data": {
      "image/png": "[encoded data removed]",
      "text/plain": [
       "<Figure size 1200x400 with 5 Axes>"
      ]
     },
     "metadata": {},
     "output_type": "display_data"
    }
   ],
   "source": [
    "perm = torch.randperm(784)\n",
    "\n",
    "batch = next(iter(train_loader))\n",
    "x = batch[0][:10]\n",
    "y = batch[1][:10]\n",
    "\n",
    "fig, axs = plt.subplots(1, 5, figsize=(12, 4))\n",
    "\n",
    "for i in range(5):\n",
    "    axs[i].imshow(x[i].squeeze().numpy())\n",
    "    \n",
    "fig, axs = plt.subplots(1, 5, figsize=(12, 4))\n",
    "x = x.view(-1, 28*28)\n",
    "x = x[:, perm]\n",
    "x = x.view(-1, 1, 28, 28)\n",
    "\n",
    "for i in range(5):\n",
    "    axs[i].imshow(x[i].squeeze().numpy())"
   ]
  },
  {
   "cell_type": "code",
   "execution_count": 28,
   "metadata": {},
   "outputs": [
    {
     "name": "stdout",
     "output_type": "stream",
     "text": [
      "Parameters=6.422K\n",
      "epoch=0, step=0: train loss=2.3053\n",
      "epoch=0, step=100: train loss=1.5413\n",
      "epoch=0, step=200: train loss=0.9149\n",
      "epoch=0, step=300: train loss=0.7862\n",
      "epoch=0, step=400: train loss=0.5592\n",
      "epoch=0, step=500: train loss=0.7537\n",
      "epoch=0, step=600: train loss=0.6818\n",
      "epoch=0, step=700: train loss=0.4923\n",
      "epoch=0, step=800: train loss=0.3470\n",
      "epoch=0, step=900: train loss=0.6498\n",
      "test loss=0.4563, accuracy=0.8596\n"
     ]
    }
   ],
   "source": [
    "# ConvNet on shuffled pixels\n",
    "n_kernels = 6\n",
    "convnet = ConvNet(input_size, n_kernels, output_size)\n",
    "convnet.to(device)\n",
    "print(f\"Parameters={sum(p.numel() for p in convnet.parameters())/1e3}K\")\n",
    "\n",
    "train(convnet, perm=perm)\n",
    "test(convnet, perm=perm)"
   ]
  },
  {
   "cell_type": "code",
   "execution_count": 29,
   "metadata": {},
   "outputs": [
    {
     "name": "stdout",
     "output_type": "stream",
     "text": [
      "Parameters=6.442K\n",
      "epoch=0, step=0: train loss=2.3264\n",
      "epoch=0, step=100: train loss=1.7413\n",
      "epoch=0, step=200: train loss=0.9696\n",
      "epoch=0, step=300: train loss=0.6865\n",
      "epoch=0, step=400: train loss=0.4995\n",
      "epoch=0, step=500: train loss=0.5333\n",
      "epoch=0, step=600: train loss=0.3909\n",
      "epoch=0, step=700: train loss=0.3129\n",
      "epoch=0, step=800: train loss=0.5878\n",
      "epoch=0, step=900: train loss=0.1672\n",
      "test loss=0.3747, accuracy=0.8907\n"
     ]
    }
   ],
   "source": [
    "# MLP on shuffled pixels\n",
    "input_size = 28*28  \n",
    "output_size = 10   \n",
    "\n",
    "n_hidden = 8\n",
    "mlp = MLP(input_size, n_hidden, output_size)\n",
    "mlp.to(device)\n",
    "print(f\"Parameters={sum(p.numel() for p in mlp.parameters())/1e3}K\")\n",
    "\n",
    "train(mlp, perm=perm)\n",
    "test(mlp, perm=perm)"
   ]
  },
  {
   "cell_type": "markdown",
   "metadata": {},
   "source": [
    "The convolutional network's performance drops when we permute the pixels, but the MLP's performance stays the same.\n",
    "* ConvNet makes the assumption that pixels lie on a grid and are stationary/local.\n",
    "* It loses performance when this assumption is wrong.\n",
    "* The fully-connected network does not make this assumption.\n",
    "* It does less well when it is true, since it doesn't take advantage of this prior knowledge.\n",
    "* But it doesn't suffer when the assumption is wrong."
   ]
  }
 ],
 "metadata": {
  "kernelspec": {
   "display_name": "Python [conda env:torch-cpu] *",
   "language": "python",
   "name": "conda-env-torch-cpu-py"
  },
  "language_info": {
   "codemirror_mode": {
    "name": "ipython",
    "version": 3
   },
   "file_extension": ".py",
   "mimetype": "text/x-python",
   "name": "python",
   "nbconvert_exporter": "python",
   "pygments_lexer": "ipython3",
   "version": "3.10.9"
  }
 },
 "nbformat": 4,
 "nbformat_minor": 4
}
