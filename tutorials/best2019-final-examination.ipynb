{
 "cells": [
  {
   "cell_type": "markdown",
   "metadata": {},
   "source": [
    "# BEST 2019 Final examination\n",
    "\n",
    "![](images/style_transfer.png)\n",
    "\n",
    "## Neural Style Transfer\n",
    "\n",
    "The goal of your project is to reimplement the algorithm proposed in: [A Neural Algorithm of Artistic Style](https://arxiv.org/pdf/1508.06576.pdf)\n",
    "\n",
    "We expect you to come up with a working implementation of the original algorithm that is based on the following steps.\n",
    "\n",
    "This will correspond to your **minimum viable product!**.\n",
    "\n",
    "- Given any natural and stylized images, the goal is to produce a new image which keeps the content of the first one and applies the style of the latter.\n",
    "\n",
    "- We expect you to work with a pretrained neural network (e.g. VGG16, ResNet...) which will serve as a feature extractor: to do so you will have to come up with your own forward() function.\n",
    "\n",
    "- You will have to reimplement the different losses presented in the paper.\n",
    "\n",
    "- Produce at least one good-looking sample for the content image you were given.\n",
    "\n",
    "**BONUS:**\n",
    "\n",
    "- Play with the different layers used for extracting the features.\n",
    "\n",
    "- Investigate how to balance the preservation of the content with respect to the transferred style.\n",
    "\n",
    "- Come up with a way that extends the algorithm to the use of multiple styles.\n",
    "\n",
    "- Investigate the differences between starting with a pretrained network and one which is randomly initialized.\n",
    "\n"
   ]
  },
  {
   "cell_type": "markdown",
   "metadata": {},
   "source": [
    "## Non-exhaustive summary of [A Neural Algorithm of Artistic Style](https://arxiv.org/pdf/1508.06576.pdf)"
   ]
  },
  {
   "cell_type": "markdown",
   "metadata": {},
   "source": [
    "The authors propose to cast the style transfer problem as an optimization procedure over the pixels of the target image. To do so they define a double loss composed of a content loss and style loss:\n",
    "\n",
    "- The content loss is mathematically defined as the mean squared error (MSE) between the two feature maps (target and content images) over the layers. \n",
    "- The style loss can be computed with the MSE between the gram matrices of the vectorized feature maps (one vector per channel). \n",
    "\n",
    "The two losses are then combined and minimized with gradient descent."
   ]
  },
  {
   "cell_type": "code",
   "execution_count": null,
   "metadata": {},
   "outputs": [],
   "source": [
    "from torchvision import models\n",
    "from torchvision import transforms\n",
    "from PIL import Image\n",
    "import argparse\n",
    "import torch\n",
    "import torchvision\n",
    "import torch.nn as nn\n",
    "import numpy as np\n",
    "from types import SimpleNamespace"
   ]
  },
  {
   "cell_type": "markdown",
   "metadata": {},
   "source": [
    "### Experimental Setting"
   ]
  },
  {
   "cell_type": "code",
   "execution_count": null,
   "metadata": {},
   "outputs": [],
   "source": [
    "config = SimpleNamespace()\n",
    "config.content = ''\n",
    "config.style = ''\n",
    "config.max_size = 400\n",
    "config.total_step = 2000\n",
    "config.log_step = 10\n",
    "config.sample_step = 500\n",
    "config.style_weight = 100\n",
    "config.lr = .003"
   ]
  },
  {
   "cell_type": "code",
   "execution_count": null,
   "metadata": {},
   "outputs": [],
   "source": [
    "# Device configuration\n",
    "device = torch.device('cuda' if torch.cuda.is_available() else 'cpu')"
   ]
  },
  {
   "cell_type": "markdown",
   "metadata": {},
   "source": [
    "### Architecture"
   ]
  },
  {
   "cell_type": "markdown",
   "metadata": {},
   "source": [
    "Define your favourite neural network which will serve as [features extractor](https://pytorch.org/docs/stable/torchvision/models.html).\n",
    "\n",
    "Redefine your forward pass for computing the features from the network.\n"
   ]
  },
  {
   "cell_type": "code",
   "execution_count": null,
   "metadata": {},
   "outputs": [],
   "source": [
    "class PretrainedNet(nn.Module):\n",
    "    def __init__(self):\n",
    "        \"\"\"Select conv1_1 ~ conv5_1 activation maps.\"\"\"\n",
    "        super(PretrainedNet, self).__init__()\n",
    "        self.select = [] #set of selected feature maps \n",
    "        self.pretrainedNet = models.PretrainedNet(pretrained=?).features\n",
    "        \n",
    "    def forward(self, x):\n",
    "        \"\"\"Extract multiple (5 is good) convolutional feature maps.\"\"\"\n",
    "        features = []\n",
    "        \n",
    "        return features"
   ]
  },
  {
   "cell_type": "markdown",
   "metadata": {},
   "source": [
    "### Image loader"
   ]
  },
  {
   "cell_type": "code",
   "execution_count": null,
   "metadata": {},
   "outputs": [],
   "source": [
    "def load_image(image_path, transform=None, max_size=None, shape=None):\n",
    "    \"\"\"Load an image and convert it to a torch tensor.\"\"\"\n",
    "    image = Image.open(image_path)\n",
    "    \n",
    "    if max_size:\n",
    "        scale = max_size / max(image.size)\n",
    "        size = np.array(image.size) * scale\n",
    "        image = image.resize(size.astype(int), Image.ANTIALIAS)\n",
    "    \n",
    "    if shape:\n",
    "        image = image.resize(shape, Image.LANCZOS)\n",
    "    \n",
    "    if transform:\n",
    "        image = transform(image).unsqueeze(0)\n",
    "    \n",
    "    return image.to(device)"
   ]
  },
  {
   "cell_type": "markdown",
   "metadata": {},
   "source": [
    "The pytorchvision pretrained models are trained on ImageNet where images are normalized by `mean=[0.485, 0.456, 0.406]` and `std=[0.229, 0.224, 0.225]`. We use the same normalization statistics here."
   ]
  },
  {
   "cell_type": "code",
   "execution_count": null,
   "metadata": {},
   "outputs": [],
   "source": [
    "transform = transforms.Compose([transforms.ToTensor(), transforms.Normalize(mean=(0.485, 0.456, 0.406), \n",
    "                                                                            std=(0.229, 0.224, 0.225))])"
   ]
  },
  {
   "cell_type": "markdown",
   "metadata": {},
   "source": [
    "Load content and style images.\n",
    "Make the style image same size as the content image.\n"
   ]
  },
  {
   "cell_type": "code",
   "execution_count": null,
   "metadata": {},
   "outputs": [],
   "source": [
    "content = load_image(config.content, transform, max_size=config.max_size)\n",
    "style = load_image(config.style, transform, shape=[content.size(2), content.size(3)])"
   ]
  },
  {
   "cell_type": "markdown",
   "metadata": {},
   "source": [
    "### Optimization"
   ]
  },
  {
   "cell_type": "markdown",
   "metadata": {},
   "source": [
    "Initialize a target image with the content image"
   ]
  },
  {
   "cell_type": "code",
   "execution_count": null,
   "metadata": {},
   "outputs": [],
   "source": [
    "target = content.clone().requires_grad_(?)"
   ]
  },
  {
   "cell_type": "code",
   "execution_count": null,
   "metadata": {},
   "outputs": [],
   "source": [
    "optimizer = # Your favourite optimizer "
   ]
  },
  {
   "cell_type": "code",
   "execution_count": null,
   "metadata": {},
   "outputs": [],
   "source": [
    "net = # Initialize your pretrained neural net and don't forget to put it in evaluation mode."
   ]
  },
  {
   "cell_type": "markdown",
   "metadata": {},
   "source": [
    "The main training loop of the algorithm: we separately deal with the content and style losses (be careful to vectorize your feature maps and follow the formulas presented in the paper)."
   ]
  },
  {
   "cell_type": "code",
   "execution_count": null,
   "metadata": {},
   "outputs": [],
   "source": [
    "for step in range(config.total_step):\n",
    "    # Extract multiple(5) feature maps\n",
    "    target_features = \n",
    "    content_features = \n",
    "    style_features = \n",
    "\n",
    "    style_loss = 0\n",
    "    content_loss = 0\n",
    "\n",
    "    for f1, f2, f3 in zip(target_features, content_features, style_features):\n",
    "        # Compute content loss with target and content images\n",
    "        content_loss += \n",
    "\n",
    "        # Reshape convolutional feature maps\n",
    "        _, c, h, w = f1.size()\n",
    "        f1 = \n",
    "        f3 = \n",
    "\n",
    "        # Compute gram matrix\n",
    "        f1 = \n",
    "        f3 = \n",
    "\n",
    "        # Compute style loss with target and style images\n",
    "        style_loss += \n",
    "\n",
    "    # Compute total loss, backprop and optimize (4 lines of code in total)\n",
    "    loss = \n",
    "\n",
    "    # Output\n",
    "    if (step+1) % config.log_step == 0:\n",
    "        # Change this print into a log with tensorboardx\n",
    "        print ('Step [{}/{}], Content Loss: {:.4f}, Style Loss: {:.4f}' \n",
    "               .format(step+1, config.total_step, content_loss.item(), style_loss.item()))\n",
    "\n",
    "    if (step+1) % config.sample_step == 0:\n",
    "        # Save the generated image (you can also change it to see it with tensorboardx)\n",
    "        denorm = transforms.Normalize((-2.12, -2.04, -1.80), (4.37, 4.46, 4.44))\n",
    "        img = target.clone().squeeze()\n",
    "        img = denorm(img).clamp_(0, 1)\n",
    "        torchvision.utils.save_image(img, 'output-{}.png'.format(step+1))"
   ]
  },
  {
   "cell_type": "markdown",
   "metadata": {},
   "source": [
    "## Bonus"
   ]
  },
  {
   "cell_type": "markdown",
   "metadata": {},
   "source": [
    "<div class=\"alert alert-danger\">\n",
    "<b>EXERCISE</b>:\n",
    "\n",
    "\n",
    "Play with the different layers used for extracting the features.\n",
    "\n",
    "\n",
    "</div>"
   ]
  },
  {
   "cell_type": "code",
   "execution_count": null,
   "metadata": {},
   "outputs": [],
   "source": []
  },
  {
   "cell_type": "markdown",
   "metadata": {},
   "source": [
    "<div class=\"alert alert-danger\">\n",
    "<b>EXERCISE</b>:\n",
    "    \n",
    "Investigate how to balance the preservation of the content with respect to the transferred style.\n",
    "\n",
    "\n",
    "</div>"
   ]
  },
  {
   "cell_type": "code",
   "execution_count": null,
   "metadata": {},
   "outputs": [],
   "source": []
  },
  {
   "cell_type": "markdown",
   "metadata": {},
   "source": [
    "<div class=\"alert alert-danger\">\n",
    "<b>EXERCISE</b>:\n",
    "\n",
    "Come up with a way that extends the algorithm to the use of multiple styles.\n",
    "\n",
    "</div>"
   ]
  },
  {
   "cell_type": "code",
   "execution_count": null,
   "metadata": {},
   "outputs": [],
   "source": []
  },
  {
   "cell_type": "markdown",
   "metadata": {},
   "source": [
    "<div class=\"alert alert-danger\">\n",
    "<b>EXERCISE</b>:\n",
    "\n",
    " Investigate the differences between starting with a pretrained network and one which is randomly initialized.\n",
    "\n",
    "\n",
    "</div>"
   ]
  },
  {
   "cell_type": "code",
   "execution_count": null,
   "metadata": {},
   "outputs": [],
   "source": []
  }
 ],
 "metadata": {
  "kernelspec": {
   "display_name": "Python 3",
   "language": "python",
   "name": "python3"
  },
  "language_info": {
   "codemirror_mode": {
    "name": "ipython",
    "version": 3
   },
   "file_extension": ".py",
   "mimetype": "text/x-python",
   "name": "python",
   "nbconvert_exporter": "python",
   "pygments_lexer": "ipython3",
   "version": "3.6.7"
  }
 },
 "nbformat": 4,
 "nbformat_minor": 2
}
